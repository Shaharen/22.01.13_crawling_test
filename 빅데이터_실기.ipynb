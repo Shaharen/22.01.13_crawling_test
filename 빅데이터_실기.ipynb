{
 "cells": [
  {
   "cell_type": "markdown",
   "id": "e19abfdf",
   "metadata": {},
   "source": [
    "## 문제2"
   ]
  },
  {
   "cell_type": "code",
   "execution_count": 1,
   "id": "709903ba",
   "metadata": {},
   "outputs": [],
   "source": [
    "from selenium import webdriver as wb\n",
    "from selenium.webdriver.common.keys import Keys"
   ]
  },
  {
   "cell_type": "code",
   "execution_count": 2,
   "id": "c38f60b5",
   "metadata": {},
   "outputs": [],
   "source": [
    "driver = wb.Chrome()\n",
    "driver.get(\"http://www.naver.com\")"
   ]
  },
  {
   "cell_type": "code",
   "execution_count": 3,
   "id": "cde1af9d",
   "metadata": {},
   "outputs": [
    {
     "name": "stderr",
     "output_type": "stream",
     "text": [
      "C:\\Users\\smhrd\\AppData\\Local\\Temp/ipykernel_12052/3792482228.py:1: DeprecationWarning: find_element_by_* commands are deprecated. Please use find_element() instead\n",
      "  search = driver.find_element_by_id(\"query\")\n"
     ]
    }
   ],
   "source": [
    "search = driver.find_element_by_id(\"query\")"
   ]
  },
  {
   "cell_type": "code",
   "execution_count": 4,
   "id": "73a8dc56",
   "metadata": {},
   "outputs": [],
   "source": [
    "search.send_keys(\"크롤링\")"
   ]
  },
  {
   "cell_type": "code",
   "execution_count": 5,
   "id": "cd34f9ea",
   "metadata": {},
   "outputs": [],
   "source": [
    "search.send_keys(Keys.ENTER)"
   ]
  },
  {
   "cell_type": "markdown",
   "id": "a115161d",
   "metadata": {},
   "source": [
    "## 문제3"
   ]
  },
  {
   "cell_type": "code",
   "execution_count": 6,
   "id": "28b34f40",
   "metadata": {},
   "outputs": [],
   "source": [
    "import time"
   ]
  },
  {
   "cell_type": "code",
   "execution_count": 7,
   "id": "db1d22da",
   "metadata": {},
   "outputs": [],
   "source": [
    "driver = wb.Chrome()\n",
    "driver.get(\"http://corners.gmarket.co.kr/Bestsellers\")"
   ]
  },
  {
   "cell_type": "code",
   "execution_count": 8,
   "id": "bfa05eba",
   "metadata": {},
   "outputs": [
    {
     "name": "stderr",
     "output_type": "stream",
     "text": [
      "C:\\Users\\smhrd\\AppData\\Local\\Temp/ipykernel_12052/2188381594.py:5: DeprecationWarning: find_elements_by_* commands are deprecated. Please use find_elements() instead\n",
      "  img = driver.find_elements_by_css_selector(\"img.lazy\")\n",
      "C:\\Users\\smhrd\\AppData\\Local\\Temp/ipykernel_12052/2188381594.py:8: DeprecationWarning: find_element_by_* commands are deprecated. Please use find_element() instead\n",
      "  title = driver.find_element_by_css_selector(\".itemtit\")\n",
      "C:\\Users\\smhrd\\AppData\\Local\\Temp/ipykernel_12052/2188381594.py:9: DeprecationWarning: find_element_by_* commands are deprecated. Please use find_element() instead\n",
      "  price = driver.find_element_by_css_selector(\".price_real\")\n"
     ]
    }
   ],
   "source": [
    "df_title = []\n",
    "df_price = []\n",
    "\n",
    "for i in range(10) :\n",
    "    img = driver.find_elements_by_css_selector(\"img.lazy\")\n",
    "    img[i].click()\n",
    "    time.sleep(1)\n",
    "    title = driver.find_element_by_css_selector(\".itemtit\")\n",
    "    price = driver.find_element_by_css_selector(\".price_real\")\n",
    "    df_title.append(title.text)\n",
    "    df_price.append(price.text)\n",
    "    driver.back()\n",
    "    time.sleep(1)"
   ]
  },
  {
   "cell_type": "code",
   "execution_count": 9,
   "id": "714daf75",
   "metadata": {},
   "outputs": [],
   "source": [
    "import pandas as pd"
   ]
  },
  {
   "cell_type": "code",
   "execution_count": 10,
   "id": "1cb010e2",
   "metadata": {},
   "outputs": [
    {
     "data": {
      "text/html": [
       "<div>\n",
       "<style scoped>\n",
       "    .dataframe tbody tr th:only-of-type {\n",
       "        vertical-align: middle;\n",
       "    }\n",
       "\n",
       "    .dataframe tbody tr th {\n",
       "        vertical-align: top;\n",
       "    }\n",
       "\n",
       "    .dataframe thead th {\n",
       "        text-align: right;\n",
       "    }\n",
       "</style>\n",
       "<table border=\"1\" class=\"dataframe\">\n",
       "  <thead>\n",
       "    <tr style=\"text-align: right;\">\n",
       "      <th></th>\n",
       "      <th>상품이름</th>\n",
       "      <th>상품가격</th>\n",
       "    </tr>\n",
       "    <tr>\n",
       "      <th>상품번호</th>\n",
       "      <th></th>\n",
       "      <th></th>\n",
       "    </tr>\n",
       "  </thead>\n",
       "  <tbody>\n",
       "    <tr>\n",
       "      <th>1</th>\n",
       "      <td>후디스 초유단백질 2개</td>\n",
       "      <td>30,000원</td>\n",
       "    </tr>\n",
       "    <tr>\n",
       "      <th>2</th>\n",
       "      <td>버팔로치킨윙봉 1kg+1kg</td>\n",
       "      <td>24,900원</td>\n",
       "    </tr>\n",
       "    <tr>\n",
       "      <th>3</th>\n",
       "      <td>한양식품 꽃보다오징어 오리지날 260g+260g 외</td>\n",
       "      <td>33,230원</td>\n",
       "    </tr>\n",
       "    <tr>\n",
       "      <th>4</th>\n",
       "      <td>설빅20%/윈터스웨트셔츠10종/가을/스웨트셔츠20종</td>\n",
       "      <td>10,000원</td>\n",
       "    </tr>\n",
       "    <tr>\n",
       "      <th>5</th>\n",
       "      <td>청도 반건시곶감 10입+10입+10입 (3팩/개당40g내외)</td>\n",
       "      <td>17,900원</td>\n",
       "    </tr>\n",
       "    <tr>\n",
       "      <th>6</th>\n",
       "      <td>참닭 춘천형 닭갈비 700g x 4팩 총 2.8kg</td>\n",
       "      <td>19,900원</td>\n",
       "    </tr>\n",
       "    <tr>\n",
       "      <th>7</th>\n",
       "      <td>(7팩 10940)베스트셀러 생리대/3세트 구매시 4팩증정</td>\n",
       "      <td>17,800원</td>\n",
       "    </tr>\n",
       "    <tr>\n",
       "      <th>8</th>\n",
       "      <td>산지애 사과원액주스 60팩 / 사과즙 100% 착즙 NFC</td>\n",
       "      <td>38,130원</td>\n",
       "    </tr>\n",
       "    <tr>\n",
       "      <th>9</th>\n",
       "      <td>수퍼맘스토리카페/예술적 사고력을 키워주는/디자인키즈 명화미술/영어미술/2주내배송</td>\n",
       "      <td>113,800원</td>\n",
       "    </tr>\n",
       "    <tr>\n",
       "      <th>10</th>\n",
       "      <td>(신세계경기점) MENS RUNNING 런팔콘 2.0 (FY5943 GX8238 G...</td>\n",
       "      <td>39,210원</td>\n",
       "    </tr>\n",
       "  </tbody>\n",
       "</table>\n",
       "</div>"
      ],
      "text/plain": [
       "                                                   상품이름      상품가격\n",
       "상품번호                                                             \n",
       "1                                          후디스 초유단백질 2개   30,000원\n",
       "2                                       버팔로치킨윙봉 1kg+1kg   24,900원\n",
       "3                          한양식품 꽃보다오징어 오리지날 260g+260g 외   33,230원\n",
       "4                          설빅20%/윈터스웨트셔츠10종/가을/스웨트셔츠20종   10,000원\n",
       "5                     청도 반건시곶감 10입+10입+10입 (3팩/개당40g내외)   17,900원\n",
       "6                          참닭 춘천형 닭갈비 700g x 4팩 총 2.8kg   19,900원\n",
       "7                      (7팩 10940)베스트셀러 생리대/3세트 구매시 4팩증정   17,800원\n",
       "8                      산지애 사과원액주스 60팩 / 사과즙 100% 착즙 NFC   38,130원\n",
       "9          수퍼맘스토리카페/예술적 사고력을 키워주는/디자인키즈 명화미술/영어미술/2주내배송  113,800원\n",
       "10    (신세계경기점) MENS RUNNING 런팔콘 2.0 (FY5943 GX8238 G...   39,210원"
      ]
     },
     "execution_count": 10,
     "metadata": {},
     "output_type": "execute_result"
    }
   ],
   "source": [
    "df_number = []\n",
    "\n",
    "for i in range(len(df_title)) :\n",
    "    df_number.append(i+1)\n",
    "    \n",
    "gmarket = {'상품이름':df_title , '상품가격':df_price , '상품번호': df_number}\n",
    "df = pd.DataFrame(gmarket)\n",
    "df.set_index('상품번호' , inplace = True)\n",
    "df"
   ]
  },
  {
   "cell_type": "markdown",
   "id": "b5b3c68a",
   "metadata": {},
   "source": [
    "## 문제4 - 1"
   ]
  },
  {
   "cell_type": "code",
   "execution_count": 17,
   "id": "fc9dbbf9",
   "metadata": {},
   "outputs": [],
   "source": [
    "import requests as req\n",
    "from bs4 import BeautifulSoup as bs"
   ]
  },
  {
   "cell_type": "code",
   "execution_count": 23,
   "id": "fc499f17",
   "metadata": {},
   "outputs": [
    {
     "data": {
      "text/plain": [
       "<Response [200]>"
      ]
     },
     "execution_count": 23,
     "metadata": {},
     "output_type": "execute_result"
    }
   ],
   "source": [
    "url = 'https://www.melon.com/chart/index.htm'\n",
    "h = {'User-Agent': 'Mozilla/5.0 (Windows NT 10.0; Win64; x64) AppleWebKit/537.36 (KHTML, like Gecko) Chrome/96.0.4664.110 Safari/537.36'}\n",
    "res = req.get(url, headers = h)\n",
    "res"
   ]
  },
  {
   "cell_type": "code",
   "execution_count": 24,
   "id": "7aff5c32",
   "metadata": {},
   "outputs": [],
   "source": [
    "soup = bs(res.text, 'lxml')"
   ]
  },
  {
   "cell_type": "code",
   "execution_count": 25,
   "id": "b0b3f360",
   "metadata": {},
   "outputs": [],
   "source": [
    "title = soup.select('div.ellipsis.rank01 > span > a')\n",
    "singer = soup.select('div.ellipsis.rank02 > a:nth-child(1)')"
   ]
  },
  {
   "cell_type": "code",
   "execution_count": 26,
   "id": "f6e3bcc6",
   "metadata": {},
   "outputs": [],
   "source": [
    "title_list =[]\n",
    "singer_list = []\n",
    "rank_list = []\n",
    "\n",
    "for i in range(len(title)) :\n",
    "    title_list.append(title[i].text)\n",
    "    singer_list.append(singer[i].text)\n",
    "    rank_list.append(i+1)"
   ]
  },
  {
   "cell_type": "code",
   "execution_count": 27,
   "id": "40a4bcf5",
   "metadata": {
    "collapsed": true
   },
   "outputs": [
    {
     "data": {
      "text/plain": [
       "['취중고백',\n",
       " '사랑은 늘 도망가',\n",
       " '회전목마 (Feat. Zion.T, 원슈타인) (Prod. Slom)',\n",
       " 'Counting Stars (Feat. Beenzino)',\n",
       " 'ELEVEN',\n",
       " '리무진 (Feat. MINO) (Prod. GRAY)',\n",
       " '겨울잠',\n",
       " 'Dreams Come True',\n",
       " '눈이 오잖아(Feat.헤이즈)',\n",
       " '만남은 쉽고 이별은 어려워 (Feat. Leellamarz) (Prod. TOIL)',\n",
       " '다정히 내 이름을 부르면',\n",
       " 'Step Back',\n",
       " 'strawberry moon',\n",
       " '드라마',\n",
       " '신호등',\n",
       " 'Savage',\n",
       " 'STAY',\n",
       " '이제 나만 믿어요',\n",
       " 'Christmas Tree',\n",
       " 'Next Level',\n",
       " '흰눈',\n",
       " '불협화음 (Feat. AKMU) (Prod. GRAY)',\n",
       " '우리가 헤어져야 했던 이유',\n",
       " '그대라는 사치',\n",
       " '다시 사랑한다면 (김필 Ver.)',\n",
       " '너를 생각해',\n",
       " '네가 없는 밤 (Feat. ASH ISLAND) (Prod. GRAY)',\n",
       " '쉬어 (Feat. MINO) (Prod. GRAY)',\n",
       " '별빛 같은 나의 사랑아',\n",
       " 'Butter',\n",
       " '언덕나무',\n",
       " '서랍',\n",
       " 'OHAYO MY NIGHT',\n",
       " '잊었니',\n",
       " 'Wake Up (Prod. 코드 쿤스트)',\n",
       " 'HERO',\n",
       " '이별후회',\n",
       " 'Permission to Dance',\n",
       " '바라만 본다',\n",
       " '문득',\n",
       " '끝사랑',\n",
       " 'My Universe',\n",
       " '낙하 (with 아이유)',\n",
       " 'Dynamite',\n",
       " 'Celebrity',\n",
       " 'Bk Love',\n",
       " '그게 더 편할 것 같아 (N번째 연애 X 멜로망스)',\n",
       " 'Weekend',\n",
       " '헤픈 우연',\n",
       " '정거장',\n",
       " '라일락',\n",
       " '밤하늘의 별을(2020)',\n",
       " '고백',\n",
       " 'Bad Habits',\n",
       " '어떻게 이별까지 사랑하겠어, 널 사랑하는 거지',\n",
       " '안녕 우린 헤어져야만 해',\n",
       " '찰나가 영원이 될 때 (The Eternal Moment)',\n",
       " '사이렌 Remix (Feat. UNEDUCATED KID, Paul Blanco)',\n",
       " '모든 날, 모든 순간 (Every day, Every Moment)',\n",
       " 'Still I Love You',\n",
       " '사랑이 아니었다고 말하지 마요',\n",
       " '추억은 만남보다 이별에 남아',\n",
       " \"롤린 (Rollin')\",\n",
       " '러브레터',\n",
       " '내 손을 잡아',\n",
       " '밝게 빛나는 별이 되어 비춰줄게',\n",
       " 'Dun Dun Dance',\n",
       " 'Off My Face',\n",
       " '시간을 거슬러 (낮에 뜨는 달 X 케이윌)',\n",
       " 'MBTI (Feat. 쿠기 & 로꼬) (Prod. GRAY)',\n",
       " '계단말고 엘리베이터',\n",
       " '봄날',\n",
       " 'Blueming',\n",
       " '작은 것들을 위한 시 (Boy With Luv) (Feat. Halsey)',\n",
       " '오늘도 빛나는 너에게 (To You My Light) (Feat.이라온)',\n",
       " '너',\n",
       " '비가 오는 날엔 (2021)',\n",
       " '좋아좋아',\n",
       " '여름비',\n",
       " 'Snowman',\n",
       " 'Queendom',\n",
       " '취기를 빌려 (취향저격 그녀 X 산들)',\n",
       " '그날에 나는 맘이 편했을까',\n",
       " 'DUMB DUMB',\n",
       " '너의 모든 순간',\n",
       " 'Savage Love (Laxed - Siren Beat) (BTS Remix)',\n",
       " '멜로디',\n",
       " '매일 크리스마스 (Everyday Christmas)',\n",
       " '나 그댈위해 시 한편을 쓰겠어',\n",
       " '죽을 만큼 아파서 (Feat. JAMIE (제이미))',\n",
       " '탕!♡',\n",
       " '비와 당신',\n",
       " 'Life Goes On',\n",
       " 'ASAP',\n",
       " '호우주의 (Feat. 개코, 넉살 (Nucksal)) (Prod. 코드 쿤스트)',\n",
       " '깐부 (Feat. 염따, ASH ISLAND) (Prod. TOIL)',\n",
       " 'Peaches (Feat. Daniel Caesar & Giveon)',\n",
       " '밤새 서로 미루다',\n",
       " 'Santa Tell Me',\n",
       " '아직도 좋아해']"
      ]
     },
     "execution_count": 27,
     "metadata": {},
     "output_type": "execute_result"
    }
   ],
   "source": [
    "title_list"
   ]
  },
  {
   "cell_type": "code",
   "execution_count": 28,
   "id": "de43c8a2",
   "metadata": {
    "collapsed": true
   },
   "outputs": [
    {
     "data": {
      "text/plain": [
       "['김민석 (멜로망스)',\n",
       " '임영웅',\n",
       " 'sokodomo',\n",
       " \"BE'O (비오)\",\n",
       " 'IVE (아이브)',\n",
       " \"BE'O (비오)\",\n",
       " '아이유',\n",
       " 'aespa',\n",
       " '이무진',\n",
       " '베이식 (Basick)',\n",
       " '경서예지',\n",
       " 'GOT the beat',\n",
       " '아이유',\n",
       " '아이유',\n",
       " '이무진',\n",
       " 'aespa',\n",
       " 'The Kid LAROI',\n",
       " '임영웅',\n",
       " 'V',\n",
       " 'aespa',\n",
       " '먼데이 키즈 (Monday Kiz)',\n",
       " 'Mudd the student',\n",
       " '비비 (BIBI)',\n",
       " '임영웅',\n",
       " '임영웅',\n",
       " '주시크 (Joosiq)',\n",
       " \"BE'O (비오)\",\n",
       " '아넌딜라이트(Anandelight)',\n",
       " '임영웅',\n",
       " '방탄소년단',\n",
       " '이승윤',\n",
       " '10CM',\n",
       " '디핵 (D-Hack)',\n",
       " '임영웅',\n",
       " '개코',\n",
       " '임영웅',\n",
       " '김나영',\n",
       " '방탄소년단',\n",
       " 'MSG워너비(M.O.M)',\n",
       " \"BE'O (비오)\",\n",
       " '임영웅',\n",
       " 'Coldplay',\n",
       " 'AKMU (악뮤)',\n",
       " '방탄소년단',\n",
       " '아이유',\n",
       " '임영웅',\n",
       " '멜로망스',\n",
       " '태연 (TAEYEON)',\n",
       " '헤이즈 (Heize)',\n",
       " '아이유',\n",
       " '아이유',\n",
       " '경서',\n",
       " '멜로망스',\n",
       " 'Ed Sheeran',\n",
       " 'AKMU (악뮤)',\n",
       " '전상근',\n",
       " '마크툽 (MAKTUB)',\n",
       " '호미들',\n",
       " '폴킴',\n",
       " '토요태',\n",
       " '이예준',\n",
       " '정동하',\n",
       " '브레이브걸스',\n",
       " '아이유',\n",
       " '아이유',\n",
       " '송이한',\n",
       " '오마이걸 (OH MY GIRL)',\n",
       " 'Justin Bieber',\n",
       " '케이윌',\n",
       " \"BE'O (비오)\",\n",
       " '임영웅',\n",
       " '방탄소년단',\n",
       " '아이유',\n",
       " '방탄소년단',\n",
       " '마크툽 (MAKTUB)',\n",
       " '아이유',\n",
       " '헤이즈 (Heize)',\n",
       " '조정석',\n",
       " '샘김 (Sam Kim)',\n",
       " 'Sia',\n",
       " 'Red Velvet (레드벨벳)',\n",
       " '산들',\n",
       " '이예준',\n",
       " '전소미',\n",
       " '성시경',\n",
       " 'Jawsh 685',\n",
       " 'ASH ISLAND',\n",
       " '다비치',\n",
       " '케이시 (Kassy)',\n",
       " 'MC몽',\n",
       " 'MINO (송민호)',\n",
       " '이무진',\n",
       " '방탄소년단',\n",
       " 'STAYC(스테이씨)',\n",
       " '조광일',\n",
       " '쿤타',\n",
       " 'Justin Bieber',\n",
       " '존박',\n",
       " 'Ariana Grande',\n",
       " '양요섭']"
      ]
     },
     "execution_count": 28,
     "metadata": {},
     "output_type": "execute_result"
    }
   ],
   "source": [
    "singer_list"
   ]
  },
  {
   "cell_type": "code",
   "execution_count": 32,
   "id": "b560bf4b",
   "metadata": {},
   "outputs": [
    {
     "name": "stdout",
     "output_type": "stream",
     "text": [
      "100\n"
     ]
    },
    {
     "data": {
      "text/plain": [
       "100"
      ]
     },
     "execution_count": 32,
     "metadata": {},
     "output_type": "execute_result"
    }
   ],
   "source": [
    "print(len(title_list))\n",
    "len(singer_list)"
   ]
  },
  {
   "cell_type": "code",
   "execution_count": 33,
   "id": "bf7e087d",
   "metadata": {},
   "outputs": [
    {
     "data": {
      "text/html": [
       "<div>\n",
       "<style scoped>\n",
       "    .dataframe tbody tr th:only-of-type {\n",
       "        vertical-align: middle;\n",
       "    }\n",
       "\n",
       "    .dataframe tbody tr th {\n",
       "        vertical-align: top;\n",
       "    }\n",
       "\n",
       "    .dataframe thead th {\n",
       "        text-align: right;\n",
       "    }\n",
       "</style>\n",
       "<table border=\"1\" class=\"dataframe\">\n",
       "  <thead>\n",
       "    <tr style=\"text-align: right;\">\n",
       "      <th></th>\n",
       "      <th>노래제목</th>\n",
       "      <th>가수</th>\n",
       "    </tr>\n",
       "    <tr>\n",
       "      <th>순위</th>\n",
       "      <th></th>\n",
       "      <th></th>\n",
       "    </tr>\n",
       "  </thead>\n",
       "  <tbody>\n",
       "    <tr>\n",
       "      <th>1</th>\n",
       "      <td>취중고백</td>\n",
       "      <td>김민석 (멜로망스)</td>\n",
       "    </tr>\n",
       "    <tr>\n",
       "      <th>2</th>\n",
       "      <td>사랑은 늘 도망가</td>\n",
       "      <td>임영웅</td>\n",
       "    </tr>\n",
       "    <tr>\n",
       "      <th>3</th>\n",
       "      <td>회전목마 (Feat. Zion.T, 원슈타인) (Prod. Slom)</td>\n",
       "      <td>sokodomo</td>\n",
       "    </tr>\n",
       "    <tr>\n",
       "      <th>4</th>\n",
       "      <td>Counting Stars (Feat. Beenzino)</td>\n",
       "      <td>BE'O (비오)</td>\n",
       "    </tr>\n",
       "    <tr>\n",
       "      <th>5</th>\n",
       "      <td>ELEVEN</td>\n",
       "      <td>IVE (아이브)</td>\n",
       "    </tr>\n",
       "    <tr>\n",
       "      <th>...</th>\n",
       "      <td>...</td>\n",
       "      <td>...</td>\n",
       "    </tr>\n",
       "    <tr>\n",
       "      <th>96</th>\n",
       "      <td>깐부 (Feat. 염따, ASH ISLAND) (Prod. TOIL)</td>\n",
       "      <td>쿤타</td>\n",
       "    </tr>\n",
       "    <tr>\n",
       "      <th>97</th>\n",
       "      <td>Peaches (Feat. Daniel Caesar &amp; Giveon)</td>\n",
       "      <td>Justin Bieber</td>\n",
       "    </tr>\n",
       "    <tr>\n",
       "      <th>98</th>\n",
       "      <td>밤새 서로 미루다</td>\n",
       "      <td>존박</td>\n",
       "    </tr>\n",
       "    <tr>\n",
       "      <th>99</th>\n",
       "      <td>Santa Tell Me</td>\n",
       "      <td>Ariana Grande</td>\n",
       "    </tr>\n",
       "    <tr>\n",
       "      <th>100</th>\n",
       "      <td>아직도 좋아해</td>\n",
       "      <td>양요섭</td>\n",
       "    </tr>\n",
       "  </tbody>\n",
       "</table>\n",
       "<p>100 rows × 2 columns</p>\n",
       "</div>"
      ],
      "text/plain": [
       "                                       노래제목             가수\n",
       "순위                                                        \n",
       "1                                      취중고백     김민석 (멜로망스)\n",
       "2                                 사랑은 늘 도망가            임영웅\n",
       "3    회전목마 (Feat. Zion.T, 원슈타인) (Prod. Slom)       sokodomo\n",
       "4           Counting Stars (Feat. Beenzino)      BE'O (비오)\n",
       "5                                    ELEVEN      IVE (아이브)\n",
       "..                                      ...            ...\n",
       "96   깐부 (Feat. 염따, ASH ISLAND) (Prod. TOIL)             쿤타\n",
       "97   Peaches (Feat. Daniel Caesar & Giveon)  Justin Bieber\n",
       "98                                밤새 서로 미루다             존박\n",
       "99                            Santa Tell Me  Ariana Grande\n",
       "100                                 아직도 좋아해            양요섭\n",
       "\n",
       "[100 rows x 2 columns]"
      ]
     },
     "execution_count": 33,
     "metadata": {},
     "output_type": "execute_result"
    }
   ],
   "source": [
    "df = pd.DataFrame( {'노래제목':title_list, '가수': singer_list, '순위':rank_list})\n",
    "df.set_index('순위', inplace = True)\n",
    "df"
   ]
  },
  {
   "cell_type": "code",
   "execution_count": 36,
   "id": "6bcce433",
   "metadata": {},
   "outputs": [],
   "source": [
    "df.to_csv(\"멜론차트.csv\" , encoding = \"euc-kr\")"
   ]
  },
  {
   "cell_type": "markdown",
   "id": "cb46f6a9",
   "metadata": {},
   "source": [
    "## 문제4 - 2 "
   ]
  },
  {
   "cell_type": "code",
   "execution_count": null,
   "id": "c445d32d",
   "metadata": {},
   "outputs": [],
   "source": [
    "# 한솥 접속 -> 더보기 다 누르기 -> 메뉴명 가격정보 수집"
   ]
  },
  {
   "cell_type": "code",
   "execution_count": 37,
   "id": "94a73cda",
   "metadata": {},
   "outputs": [],
   "source": [
    "driver = wb.Chrome()\n",
    "driver.get(\"https://www.hsd.co.kr/menu/menu_list\")"
   ]
  },
  {
   "cell_type": "code",
   "execution_count": 38,
   "id": "1ae82627",
   "metadata": {},
   "outputs": [
    {
     "name": "stderr",
     "output_type": "stream",
     "text": [
      "C:\\Users\\smhrd\\AppData\\Local\\Temp/ipykernel_12052/3333186316.py:1: DeprecationWarning: find_element_by_* commands are deprecated. Please use find_element() instead\n",
      "  btn = driver.find_element_by_css_selector(\"a.c_05\")\n"
     ]
    }
   ],
   "source": [
    "btn = driver.find_element_by_css_selector(\"a.c_05\")"
   ]
  },
  {
   "cell_type": "code",
   "execution_count": 39,
   "id": "e1dd12ce",
   "metadata": {},
   "outputs": [
    {
     "name": "stdout",
     "output_type": "stream",
     "text": [
      "더보기가 끝났습니다.\n"
     ]
    }
   ],
   "source": [
    "try :\n",
    "    for i in range(10) :\n",
    "        btn.click()\n",
    "        time.sleep(2)\n",
    "except :\n",
    "        print(\"더보기가 끝났습니다.\")"
   ]
  },
  {
   "cell_type": "code",
   "execution_count": 40,
   "id": "8aec7489",
   "metadata": {
    "collapsed": true
   },
   "outputs": [
    {
     "name": "stderr",
     "output_type": "stream",
     "text": [
      "C:\\Users\\smhrd\\AppData\\Local\\Temp/ipykernel_12052/1670357217.py:3: DeprecationWarning: find_elements_by_* commands are deprecated. Please use find_elements() instead\n",
      "  title = driver.find_elements_by_css_selector(\"h4.h.fz_03\")\n"
     ]
    },
    {
     "data": {
      "text/plain": [
       "['행사 숯불직화구이 덮밥',\n",
       " '행사 제육 김치 부대찌개 정식',\n",
       " '행사 빅치킨마요 김치 부대찌개 정식',\n",
       " '행사 돈까스도련님 고기고기',\n",
       " '행사 동백',\n",
       " '행사 새치 고기고기',\n",
       " '행사 진달래',\n",
       " '행사 스팸 김치볶음밥',\n",
       " '매화(치킨, 연어구이)',\n",
       " '매화(순살 고등어 간장구이)',\n",
       " '진달래',\n",
       " '개나리(순살 고등어 간장구이)',\n",
       " '돈까스도련님고기고기',\n",
       " '탕수육도련님고기고기',\n",
       " '새치 고기고기',\n",
       " '돈치 고기고기',\n",
       " '고기고기',\n",
       " '숯불직화구이',\n",
       " '소불고기',\n",
       " '메가치킨제육',\n",
       " '칠리 찹쌀탕수육도련님',\n",
       " '동백',\n",
       " '치킨제육',\n",
       " '돈까스도련님',\n",
       " '제육볶음',\n",
       " '돈치스팸 도시락',\n",
       " '제육 김치찌개 정식',\n",
       " '제육 김치 부대찌개 정식',\n",
       " '돈치스팸 김치 부대찌개 정식',\n",
       " '빅치킨마요 김치 부대찌개 정식',\n",
       " '치킨마요 김치 부대찌개 정식',\n",
       " '돈치스팸 김치찌개 정식',\n",
       " '빅치킨마요 김치찌개 정식',\n",
       " '치킨마요 김치찌개 정식',\n",
       " '메가스팸마요',\n",
       " '스팸마요',\n",
       " '메가치킨마요',\n",
       " '왕치킨마요',\n",
       " '빅치킨마요',\n",
       " '치킨마요',\n",
       " '참치마요',\n",
       " '돈치마요',\n",
       " '치즈 카레도시락',\n",
       " '돈까스 카레',\n",
       " '3종치즈 김치볶음밥',\n",
       " '스팸 김치볶음밥',\n",
       " '김치볶음밥',\n",
       " '스팸철판볶음밥',\n",
       " '소불고기 철판볶음밥',\n",
       " '소고기 육개장',\n",
       " '묵은지 김치찌개',\n",
       " '김치 부대찌개',\n",
       " '반찬 김치 부대찌개',\n",
       " '숯불직화구이 덮밥',\n",
       " '마파두부 덮밥',\n",
       " '왕카레돈까스덮밥',\n",
       " '새우돈까스 덮밥',\n",
       " '돈까스 덮밥',\n",
       " '소불고기 감초고추장 비빔밥',\n",
       " '시골제육 두부강된장 비빔밥',\n",
       " '참치야채 감초고추장',\n",
       " '두부강정 야채비빔밥',\n",
       " '열무 두부강된장 비빔밥',\n",
       " '튼튼도시락',\n",
       " '반찬 계란말이',\n",
       " '반찬 치즈계란말이',\n",
       " '반찬 묵은지김치찌개',\n",
       " '반찬 소고기육개장',\n",
       " '반찬 카레',\n",
       " '반찬 소불고기',\n",
       " '반찬 순살 고등어데리야끼',\n",
       " '반찬 치킨',\n",
       " '반찬 고기고기',\n",
       " '반찬 돈까스 도련님',\n",
       " '반찬 제육볶음',\n",
       " '반찬 토네이도 소세지',\n",
       " '반찬 반달돈까스',\n",
       " '리얼꿀 미니호떡',\n",
       " '바삭 군만두',\n",
       " '미니 찹쌀핫도그',\n",
       " '미니 찹쌀탕수육',\n",
       " '감자고로케',\n",
       " '케이준후라이',\n",
       " '고메이 크림 고로케',\n",
       " '두부연근튀김',\n",
       " '국물떡볶이 & 토네이도소세지 튀김set',\n",
       " '리얼 티라미수 찰떡',\n",
       " '국물 떡볶이',\n",
       " '토네이도 소세지 튀김세트',\n",
       " '리얼꿀 미니호떡',\n",
       " '후라이드 순살(중)',\n",
       " '후라이드 순살(소)_양념치킨소스',\n",
       " '후라이드 순살(소)_케이준소스',\n",
       " '찹쌀탕수육박스(대)',\n",
       " '찹쌀탕수육박스(중)',\n",
       " '오리지널 닭강정(중)',\n",
       " '오리지널 닭강정(소)',\n",
       " '치킨 BOX(대)',\n",
       " '치킨BOX(중)_양식소스',\n",
       " '치킨BOX(중)_타르타르소스',\n",
       " '오징어젓갈',\n",
       " '오이지무침',\n",
       " '한솥 두부강된장소스',\n",
       " '한솥 감초볶음고추장소스',\n",
       " '볶음김치',\n",
       " '김치',\n",
       " '무말랭이 무침',\n",
       " '한솥밥',\n",
       " '현미밥',\n",
       " '리얼 티라미수 찰떡',\n",
       " '아이스 애플망고']"
      ]
     },
     "execution_count": 40,
     "metadata": {},
     "output_type": "execute_result"
    }
   ],
   "source": [
    "df_title = []\n",
    "\n",
    "title = driver.find_elements_by_css_selector(\"h4.h.fz_03\")\n",
    "for i in title :\n",
    "   df_title.append(i.text)\n",
    "df_title"
   ]
  },
  {
   "cell_type": "code",
   "execution_count": 41,
   "id": "1610aebc",
   "metadata": {
    "collapsed": true
   },
   "outputs": [
    {
     "name": "stderr",
     "output_type": "stream",
     "text": [
      "C:\\Users\\smhrd\\AppData\\Local\\Temp/ipykernel_12052/950043712.py:3: DeprecationWarning: find_elements_by_* commands are deprecated. Please use find_elements() instead\n",
      "  price = driver.find_elements_by_css_selector(\"div.item-price > strong\")\n"
     ]
    },
    {
     "data": {
      "text/plain": [
       "['4,900',\n",
       " '7,200',\n",
       " '6,300',\n",
       " '4,900',\n",
       " '4,600',\n",
       " '5,200',\n",
       " '5,900',\n",
       " '3,900',\n",
       " '10,000',\n",
       " '10,000',\n",
       " '7,000',\n",
       " '8,000',\n",
       " '5,800',\n",
       " '5,800',\n",
       " '6,200',\n",
       " '5,400',\n",
       " '4,200',\n",
       " '6,500',\n",
       " '5,000',\n",
       " '7,000',\n",
       " '4,200',\n",
       " '5,500',\n",
       " '4,500',\n",
       " '4,200',\n",
       " '4,100',\n",
       " '4,700',\n",
       " '8,200',\n",
       " '8,500',\n",
       " '8,500',\n",
       " '7,400',\n",
       " '6,800',\n",
       " '8,200',\n",
       " '7,000',\n",
       " '6,400',\n",
       " '5,600',\n",
       " '3,600',\n",
       " '5,500',\n",
       " '4,500',\n",
       " '3,800',\n",
       " '3,200',\n",
       " '3,000',\n",
       " '3,600',\n",
       " '4,100',\n",
       " '4,200',\n",
       " '4,800',\n",
       " '4,700',\n",
       " '3,900',\n",
       " '4,500',\n",
       " '4,500',\n",
       " '4,700',\n",
       " '4,500',\n",
       " '5,800',\n",
       " '4,500',\n",
       " '5,900',\n",
       " '5,000',\n",
       " '5,700',\n",
       " '3,900',\n",
       " '3,800',\n",
       " '5,000',\n",
       " '5,000',\n",
       " '3,200',\n",
       " '4,800',\n",
       " '4,300',\n",
       " '5,000',\n",
       " '2,500',\n",
       " '3,000',\n",
       " '4,000',\n",
       " '4,300',\n",
       " '2,600',\n",
       " '3,900',\n",
       " '3,600',\n",
       " '3,300',\n",
       " '3,200',\n",
       " '3,500',\n",
       " '3,100',\n",
       " '2,600',\n",
       " '2,600',\n",
       " '2,200',\n",
       " '2,000',\n",
       " '2,500',\n",
       " '2,200',\n",
       " '2,200',\n",
       " '1,500',\n",
       " '3,500',\n",
       " '3,000',\n",
       " '5,300',\n",
       " '1,500',\n",
       " '3,000',\n",
       " '2,900',\n",
       " '2,200',\n",
       " '7,000',\n",
       " '3,500',\n",
       " '3,500',\n",
       " '10,000',\n",
       " '5,000',\n",
       " '7,500',\n",
       " '2,900',\n",
       " '10,000',\n",
       " '5,000',\n",
       " '5,000',\n",
       " '400',\n",
       " '700',\n",
       " '1,800',\n",
       " '500',\n",
       " '400',\n",
       " '300',\n",
       " '300',\n",
       " '1,000',\n",
       " '1,700',\n",
       " '1,500',\n",
       " '1,500']"
      ]
     },
     "execution_count": 41,
     "metadata": {},
     "output_type": "execute_result"
    }
   ],
   "source": [
    "df_price = []\n",
    "\n",
    "price = driver.find_elements_by_css_selector(\"div.item-price > strong\")\n",
    "for i in price :\n",
    "    df_price.append(i.text)\n",
    "df_price"
   ]
  },
  {
   "cell_type": "code",
   "execution_count": 45,
   "id": "5b46083f",
   "metadata": {},
   "outputs": [
    {
     "data": {
      "text/html": [
       "<div>\n",
       "<style scoped>\n",
       "    .dataframe tbody tr th:only-of-type {\n",
       "        vertical-align: middle;\n",
       "    }\n",
       "\n",
       "    .dataframe tbody tr th {\n",
       "        vertical-align: top;\n",
       "    }\n",
       "\n",
       "    .dataframe thead th {\n",
       "        text-align: right;\n",
       "    }\n",
       "</style>\n",
       "<table border=\"1\" class=\"dataframe\">\n",
       "  <thead>\n",
       "    <tr style=\"text-align: right;\">\n",
       "      <th></th>\n",
       "      <th>메뉴</th>\n",
       "      <th>가격</th>\n",
       "    </tr>\n",
       "    <tr>\n",
       "      <th>번호</th>\n",
       "      <th></th>\n",
       "      <th></th>\n",
       "    </tr>\n",
       "  </thead>\n",
       "  <tbody>\n",
       "    <tr>\n",
       "      <th>1</th>\n",
       "      <td>행사 숯불직화구이 덮밥</td>\n",
       "      <td>4,900</td>\n",
       "    </tr>\n",
       "    <tr>\n",
       "      <th>2</th>\n",
       "      <td>행사 제육 김치 부대찌개 정식</td>\n",
       "      <td>7,200</td>\n",
       "    </tr>\n",
       "    <tr>\n",
       "      <th>3</th>\n",
       "      <td>행사 빅치킨마요 김치 부대찌개 정식</td>\n",
       "      <td>6,300</td>\n",
       "    </tr>\n",
       "    <tr>\n",
       "      <th>4</th>\n",
       "      <td>행사 돈까스도련님 고기고기</td>\n",
       "      <td>4,900</td>\n",
       "    </tr>\n",
       "    <tr>\n",
       "      <th>5</th>\n",
       "      <td>행사 동백</td>\n",
       "      <td>4,600</td>\n",
       "    </tr>\n",
       "    <tr>\n",
       "      <th>...</th>\n",
       "      <td>...</td>\n",
       "      <td>...</td>\n",
       "    </tr>\n",
       "    <tr>\n",
       "      <th>107</th>\n",
       "      <td>무말랭이 무침</td>\n",
       "      <td>300</td>\n",
       "    </tr>\n",
       "    <tr>\n",
       "      <th>108</th>\n",
       "      <td>한솥밥</td>\n",
       "      <td>1,000</td>\n",
       "    </tr>\n",
       "    <tr>\n",
       "      <th>109</th>\n",
       "      <td>현미밥</td>\n",
       "      <td>1,700</td>\n",
       "    </tr>\n",
       "    <tr>\n",
       "      <th>110</th>\n",
       "      <td>리얼 티라미수 찰떡</td>\n",
       "      <td>1,500</td>\n",
       "    </tr>\n",
       "    <tr>\n",
       "      <th>111</th>\n",
       "      <td>아이스 애플망고</td>\n",
       "      <td>1,500</td>\n",
       "    </tr>\n",
       "  </tbody>\n",
       "</table>\n",
       "<p>111 rows × 2 columns</p>\n",
       "</div>"
      ],
      "text/plain": [
       "                      메뉴     가격\n",
       "번호                             \n",
       "1           행사 숯불직화구이 덮밥  4,900\n",
       "2       행사 제육 김치 부대찌개 정식  7,200\n",
       "3    행사 빅치킨마요 김치 부대찌개 정식  6,300\n",
       "4         행사 돈까스도련님 고기고기  4,900\n",
       "5                  행사 동백  4,600\n",
       "..                   ...    ...\n",
       "107              무말랭이 무침    300\n",
       "108                  한솥밥  1,000\n",
       "109                  현미밥  1,700\n",
       "110           리얼 티라미수 찰떡  1,500\n",
       "111             아이스 애플망고  1,500\n",
       "\n",
       "[111 rows x 2 columns]"
      ]
     },
     "execution_count": 45,
     "metadata": {},
     "output_type": "execute_result"
    }
   ],
   "source": [
    "df_number =[]\n",
    "for i in range(1,len(df_title)+1) :\n",
    "    df_number.append(i)\n",
    "\n",
    "infor = { '메뉴' : df_title , '가격' : df_price , '번호' : df_number }\n",
    "df= pd.DataFrame(infor)\n",
    "df.set_index('번호', inplace = True)\n",
    "df"
   ]
  },
  {
   "cell_type": "code",
   "execution_count": 47,
   "id": "09b14503",
   "metadata": {},
   "outputs": [],
   "source": [
    "df.to_csv(\"한솥2.csv\" , encoding = \"euc-kr\")"
   ]
  }
 ],
 "metadata": {
  "kernelspec": {
   "display_name": "Python 3 (ipykernel)",
   "language": "python",
   "name": "python3"
  },
  "language_info": {
   "codemirror_mode": {
    "name": "ipython",
    "version": 3
   },
   "file_extension": ".py",
   "mimetype": "text/x-python",
   "name": "python",
   "nbconvert_exporter": "python",
   "pygments_lexer": "ipython3",
   "version": "3.9.7"
  }
 },
 "nbformat": 4,
 "nbformat_minor": 5
}
