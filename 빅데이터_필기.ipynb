{
 "cells": [
  {
   "cell_type": "markdown",
   "id": "b884cb34",
   "metadata": {},
   "source": [
    "## 문제1"
   ]
  },
  {
   "cell_type": "code",
   "execution_count": null,
   "id": "e11805e1",
   "metadata": {},
   "outputs": [],
   "source": [
    "1. a 로그수집\n",
    "2. f 크롤링\n",
    "3. c 오픈API\n",
    "4. h 센서수집"
   ]
  },
  {
   "cell_type": "markdown",
   "id": "f70a5654",
   "metadata": {},
   "source": [
    "## 문제2"
   ]
  },
  {
   "cell_type": "code",
   "execution_count": null,
   "id": "d0c4b732",
   "metadata": {},
   "outputs": [],
   "source": [
    "크롤링이란 웹 페이지를 그대로 가져와서 가져온 페이지에서 데이터를 추출해 내는 행위를 말한다.\n",
    "현대 사회에 존재하는 많은 양의 정보중 내가 원하는 정보만을 추출하여 사용하거나\n",
    "사회 구성원들에게 적합한 정보를 제공하고 관리하기 위해 사용한다."
   ]
  },
  {
   "cell_type": "markdown",
   "id": "8faf6085",
   "metadata": {},
   "source": [
    "## 문제3"
   ]
  },
  {
   "cell_type": "code",
   "execution_count": null,
   "id": "44123640",
   "metadata": {},
   "outputs": [],
   "source": [
    "Beautiful Soup은 데이터의 형태를 바꿔주는 파싱을 목적으로 \n",
    "가져온 html 코드에서 내가 원하는 내용만 추출할때 사용한다\n",
    "text데이터를 컴퓨터가 접근 가능하게 html문서화 즉 bs객체화를 진행하여\n",
    "해당되는 select 문을 사용하여 원하는 정보에 접근할 수 있도록 도와준다."
   ]
  },
  {
   "cell_type": "markdown",
   "id": "f32a2f4c",
   "metadata": {},
   "source": [
    "## 문제4"
   ]
  },
  {
   "cell_type": "code",
   "execution_count": null,
   "id": "e951ddba",
   "metadata": {},
   "outputs": [],
   "source": [
    "1. find_element_by_class_name\n",
    "2. find_elements_by_class_name\n",
    "\n",
    "1번은 조건에 맞는 첫번째 요소를 반환하고 2번은 조건에 일치하는 모든 요소를 가져온다.\n",
    "그렇기 때문에 2번은 List의 형태로 반환된다."
   ]
  },
  {
   "cell_type": "markdown",
   "id": "7a9eefc3",
   "metadata": {},
   "source": [
    "## 문제5"
   ]
  },
  {
   "cell_type": "code",
   "execution_count": null,
   "id": "79aea1b2",
   "metadata": {},
   "outputs": [],
   "source": [
    "crawling = soup.select_one('#this_span')\n",
    "print(crawling.text)"
   ]
  },
  {
   "cell_type": "code",
   "execution_count": null,
   "id": "1d763971",
   "metadata": {},
   "outputs": [],
   "source": []
  },
  {
   "cell_type": "code",
   "execution_count": null,
   "id": "54185de8",
   "metadata": {},
   "outputs": [],
   "source": []
  }
 ],
 "metadata": {
  "kernelspec": {
   "display_name": "Python 3 (ipykernel)",
   "language": "python",
   "name": "python3"
  },
  "language_info": {
   "codemirror_mode": {
    "name": "ipython",
    "version": 3
   },
   "file_extension": ".py",
   "mimetype": "text/x-python",
   "name": "python",
   "nbconvert_exporter": "python",
   "pygments_lexer": "ipython3",
   "version": "3.9.7"
  }
 },
 "nbformat": 4,
 "nbformat_minor": 5
}
